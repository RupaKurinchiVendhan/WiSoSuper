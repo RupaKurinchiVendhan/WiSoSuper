{
 "cells": [
  {
   "cell_type": "code",
   "execution_count": 7,
   "metadata": {},
   "outputs": [],
   "source": [
    "from skimage.metrics import structural_similarity as ssim1\r\n",
    "import cv2\r\n",
    "from math import *\r\n",
    "import numpy as np\r\n",
    "\r\n",
    "def psnr1(imageA, imageB):\r\n",
    "    mse = np.mean((imageA - imageB) ** 2)\r\n",
    "    # MSE is zero means no noise is present in the signal and PSNR has no importance.\r\n",
    "    if(mse == 0):  \r\n",
    "        return 100\r\n",
    "    max_pixel = 255.0\r\n",
    "    psnr = 20 * log10(max_pixel / sqrt(mse))\r\n",
    "    return psnr\r\n",
    "\r\n",
    "def mse1(imageA, imageB):\r\n",
    " # the 'Mean Squared Error' between the two images is the sum of the squared difference between the two images\r\n",
    " mse_error = np.sum((imageA.astype(\"float\") - imageB.astype(\"float\")) ** 2)\r\n",
    " mse_error /= float(imageA.shape[0] * imageA.shape[1])\r\n",
    " # return the MSE. The lower the error, the more \"similar\" the two images are.\r\n",
    " return mse_error\r\n",
    "\r\n",
    "def read_image(path):\r\n",
    "    '''Read image and return the image propertis.\r\n",
    "    Parameters:\r\n",
    "    path (string): Image path\r\n",
    "\r\n",
    "    Returns:\r\n",
    "    numpy.ndarray: Image exists in \"path\"\r\n",
    "    list: Image size\r\n",
    "    tuple: Image dimension (number of rows and columns)\r\n",
    "    '''\r\n",
    "    img = cv2.imread(path)\r\n",
    "    return img"
   ]
  },
  {
   "cell_type": "code",
   "execution_count": 13,
   "metadata": {},
   "outputs": [
    {
     "name": "stdout",
     "output_type": "stream",
     "text": [
      "---------------\n",
      "GANs.png\n",
      "---------------\n",
      "Mean Squared Error (MSE):  876.621\n",
      "Root Mean Sqaured Error (RMSE):  29.60778613810901\n",
      "Peak Signal-to-Noise Ratio (PSNR):  18.70268490631559\n",
      "Structural Similarity Index (SSIM):  (0.5352162874722163, 0.5439015715487923)\n",
      "Universal Quality Image Index (UQI):  0.9299495245460365\n",
      "Multi-scale Structural Similarity Index (MS-SSIM):  (0.6853013319244188+0j)\n",
      "Spatial Correlation Coefficient (SCC):  0.12917697541705522\n",
      "Relative Average Spectral Error (RASE):  1538.713013433962\n",
      "Spectral Angle Mapper (SAM):  0.28073707993406766\n",
      "Visual Information Fidelity (VIF):  0.10333376076953298\n",
      "Block Sensitive - Peak Signal-to-Noise Ratio:  22.198482516412493\n",
      "---------------\n",
      "Bilinear.png\n",
      "---------------\n",
      "Mean Squared Error (MSE):  398.13686666666666\n",
      "Root Mean Sqaured Error (RMSE):  19.95336730145232\n",
      "Peak Signal-to-Noise Ratio (PSNR):  22.130479666332622\n",
      "Structural Similarity Index (SSIM):  (0.6608145371218382, 0.6619671082311688)\n",
      "Universal Quality Image Index (UQI):  0.9743754441533649\n",
      "Multi-scale Structural Similarity Index (MS-SSIM):  (0.8373629052201722+0j)\n",
      "Spatial Correlation Coefficient (SCC):  0.12834066147889742\n",
      "Relative Average Spectral Error (RASE):  1038.7831937374774\n",
      "Spectral Angle Mapper (SAM):  0.19554057711028394\n",
      "Visual Information Fidelity (VIF):  0.1567241021422916\n",
      "Block Sensitive - Peak Signal-to-Noise Ratio:  25.35306168918026\n",
      "---------------\n",
      "Bicubic.png\n",
      "---------------\n",
      "Mean Squared Error (MSE):  494.8556\n",
      "Root Mean Sqaured Error (RMSE):  22.24535007591474\n",
      "Peak Signal-to-Noise Ratio (PSNR):  21.186018715748823\n",
      "Structural Similarity Index (SSIM):  (0.6660708969254904, 0.6673787717514342)\n",
      "Universal Quality Image Index (UQI):  0.9721521980149542\n",
      "Multi-scale Structural Similarity Index (MS-SSIM):  (0.8324875084427286+0j)\n",
      "Spatial Correlation Coefficient (SCC):  0.1469014742628322\n",
      "Relative Average Spectral Error (RASE):  1069.6211993843426\n",
      "Spectral Angle Mapper (SAM):  0.21458612812927388\n",
      "Visual Information Fidelity (VIF):  0.15700795939463716\n",
      "Block Sensitive - Peak Signal-to-Noise Ratio:  23.160493431435157\n"
     ]
    }
   ],
   "source": [
    "import sewar.full_ref as sw\r\n",
    "# Mean Squared Error (MSE)\r\n",
    "# Root Mean Sqaured Error (RMSE)\r\n",
    "# Peak Signal-to-Noise Ratio (PSNR) [1]\r\n",
    "# Structural Similarity Index (SSIM) [1]\r\n",
    "# Universal Quality Image Index (UQI) [2]\r\n",
    "# Multi-scale Structural Similarity Index (MS-SSIM) [3]\r\n",
    "# Erreur Relative Globale Adimensionnelle de Synthèse (ERGAS) [4]\r\n",
    "# Spatial Correlation Coefficient (SCC) [5]\r\n",
    "# Relative Average Spectral Error (RASE) [6]\r\n",
    "# Spectral Angle Mapper (SAM) [7]\r\n",
    "# Spectral Distortion Index (D_lambda) [8]\r\n",
    "# Spatial Distortion Index (D_S) [8]\r\n",
    "# Quality with No Reference (QNR) [8]\r\n",
    "# Visual Information Fidelity (VIF) [9]\r\n",
    "# Block Sensitive - Peak Signal-to-Noise Ratio (PSNR-B)\r\n",
    "gt = cv2.imread('Ground Truth.png')\r\n",
    "imgs = ['GANs.png', 'Bilinear.png', 'Bicubic.png']\r\n",
    "\r\n",
    "for img in imgs:\r\n",
    "    print(\"---------------\")\r\n",
    "    print(img)\r\n",
    "    print(\"---------------\")\r\n",
    "    i = cv2.imread(img)\r\n",
    "    print(\"Mean Squared Error (MSE): \", sw.mse(gt, i))\r\n",
    "    print(\"Root Mean Sqaured Error (RMSE): \", sw.rmse(gt, i))\r\n",
    "    print(\"Peak Signal-to-Noise Ratio (PSNR): \", sw.psnr(gt, i))\r\n",
    "    print(\"Structural Similarity Index (SSIM): \", sw.ssim(gt, i))\r\n",
    "    print(\"Universal Quality Image Index (UQI): \", sw.uqi(gt, i))\r\n",
    "    print(\"Multi-scale Structural Similarity Index (MS-SSIM): \", sw.msssim(gt, i))\r\n",
    "    print(\"Spatial Correlation Coefficient (SCC): \", sw.scc(gt, i))\r\n",
    "    print(\"Relative Average Spectral Error (RASE): \", sw.rase(gt, i))\r\n",
    "    print(\"Spectral Angle Mapper (SAM): \", sw.sam(gt, i))\r\n",
    "    print(\"Visual Information Fidelity (VIF): \", sw.vifp(gt, i))\r\n",
    "    print(\"Block Sensitive - Peak Signal-to-Noise Ratio: \", sw.psnrb(gt, i))"
   ]
  },
  {
   "cell_type": "code",
   "execution_count": 17,
   "metadata": {},
   "outputs": [
    {
     "name": "stdout",
     "output_type": "stream",
     "text": [
      "---------------\n",
      "GANs.png\n",
      "---------------\n",
      "Mean Squared Error (MSE):  521.9821\n",
      "Peak Signal-to-Noise Ratio (PSNR):  29.11892763222607\n",
      "Structural Similarity Index (SSIM):  0.5125804171398198\n",
      "---------------\n",
      "Bilinear.png\n",
      "---------------\n",
      "Mean Squared Error (MSE):  233.9588\n",
      "Peak Signal-to-Noise Ratio (PSNR):  29.906659895206083\n",
      "Structural Similarity Index (SSIM):  0.6121217776019469\n",
      "---------------\n",
      "Bicubic.png\n",
      "---------------\n",
      "Mean Squared Error (MSE):  327.7508\n",
      "Peak Signal-to-Noise Ratio (PSNR):  29.7321449182894\n",
      "Structural Similarity Index (SSIM):  0.606630437875042\n"
     ]
    }
   ],
   "source": [
    "gt = cv2.imread('Ground Truth.png')\r\n",
    "imgs = ['GANs.png', 'Bilinear.png', 'Bicubic.png']\r\n",
    "gt_gray = cv2.cvtColor(gt, cv2.COLOR_BGR2GRAY)\r\n",
    "\r\n",
    "for img in imgs:\r\n",
    "    print(\"---------------\")\r\n",
    "    print(img)\r\n",
    "    print(\"---------------\")\r\n",
    "    i = cv2.imread(img)\r\n",
    "    i_gray = cv2.cvtColor(i, cv2.COLOR_BGR2GRAY)\r\n",
    "    print(\"Mean Squared Error (MSE): \", mse1(gt_gray, i_gray))\r\n",
    "    print(\"Peak Signal-to-Noise Ratio (PSNR): \", psnr1(gt, i))\r\n",
    "    print(\"Structural Similarity Index (SSIM): \", ssim1(gt, i, multichannel=True))"
   ]
  },
  {
   "cell_type": "code",
   "execution_count": null,
   "metadata": {},
   "outputs": [],
   "source": []
  }
 ],
 "metadata": {
  "kernelspec": {
   "display_name": "Python 3.7.9 64-bit",
   "metadata": {
    "interpreter": {
     "hash": "807ff858233d24531478230435f22e6107130d081607fc1eaa25842c23e2ef84"
    }
   },
   "name": "python3"
  },
  "language_info": {
   "codemirror_mode": {
    "name": "ipython",
    "version": 3
   },
   "file_extension": ".py",
   "mimetype": "text/x-python",
   "name": "python",
   "nbconvert_exporter": "python",
   "pygments_lexer": "ipython3",
   "version": "3.7.9"
  },
  "orig_nbformat": 2
 },
 "nbformat": 4,
 "nbformat_minor": 2
}